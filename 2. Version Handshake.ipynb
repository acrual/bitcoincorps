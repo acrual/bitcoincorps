{
 "cells": [
  {
   "cell_type": "markdown",
   "metadata": {},
   "source": [
    "In the last lesson we encountered the Bitcoin protocol's [Version Handshake](https://en.bitcoin.it/wiki/Version_Handshake). We saw how Bitcoin network peers won't respond if you don't start the conversion with a `version` message.\n",
    "\n",
    "But we cheated. I gave you a serialize `version` message and didn't tell you how I created it.\n",
    "\n",
    "We were also lazy: we didn't parse the cryptic `payload` of the `version` message that our peer sent us.\n",
    "\n",
    "We, too, we rude! After listening for our peer's `version` message we stopped listening and never received or responded to their `verack` message -- completing the handshake.\n",
    "\n",
    "So you see, we have much to fix!\n",
    "\n",
    "To begin, I'm going to redefine everything from last lesson. I'm going to rename `Message` -> `Packet`.\n",
    "\n",
    "In the root of the `bitcoincorps` project directory you will now see a `ibd` folder, and inside it a `one.py ` file. `idb` stands for \"initial block download\" -- the goal of this project. After lesson I will add a new file to this directory containing all the important code we've written up through that lesson. This way we will have a nice library once this course is finished.\n",
    "\n",
    "Check out `one.py` [here](./ibd/one.py)\n",
    "\n",
    "And let's import all this code that we wrote last time:"
   ]
  },
  {
   "cell_type": "code",
   "execution_count": 21,
   "metadata": {},
   "outputs": [],
   "source": [
    "from ibd.one import *"
   ]
  },
  {
   "cell_type": "markdown",
   "metadata": {},
   "source": [
    "Let's also load the [\"autoreload\"](https://ipython.readthedocs.io/en/stable/config/extensions/autoreload.html?highlight=reload#module-IPython.extensions.autoreload) extension for Jupyter:"
   ]
  },
  {
   "cell_type": "code",
   "execution_count": 22,
   "metadata": {},
   "outputs": [
    {
     "name": "stdout",
     "output_type": "stream",
     "text": [
      "The autoreload extension is already loaded. To reload it, use:\n",
      "  %reload_ext autoreload\n"
     ]
    }
   ],
   "source": [
    "%load_ext autoreload\n",
    "%autoreload 2"
   ]
  },
  {
   "cell_type": "markdown",
   "metadata": {},
   "source": [
    "Now we're back where we left off last time: we can send a hard-coded `version` message to a Bitcoin peer and make sense of the outermost attributes of the binary response we receive: \"network magic\", \"command\", \"payload length\", \"payload checksum\" and \"payload\" itself.\n",
    "\n",
    "Next, we need to learn to "
   ]
  },
  {
   "cell_type": "code",
   "execution_count": 7,
   "metadata": {},
   "outputs": [
    {
     "name": "stdout",
     "output_type": "stream",
     "text": [
      "+----------+----------------------------------------------------------------------------------+\n",
      "| Packet   |                                                                                  |\n",
      "+==========+==================================================================================+\n",
      "| command  | b'version'                                                                       |\n",
      "+----------+----------------------------------------------------------------------------------+\n",
      "| payload  | b\"\\x7f\\x11\\x01\\x00\\r\\x04\\x00\\x00\\x00\\x00\\x00\\x00^\\xb2^[\\x00\\x00\\x00\\x00\\x0f\\x04\\ |\n",
      "|          | x00\\x00\\x00\\x00\\x00\\x00\\x00\\x00\\x00\\x00\\x00\\x00\\x00\\x00\\x00\\x00\\x00\\x00\\x00\\x00\\ |\n",
      "|          | x00\\x00\\x00\\x00\\r\\x04\\x00\\x00\\x00\\x00\\x00\\x00\\x00\\x00\\x00\\x00\\x00\\x00\\x00\\x00\\x0 |\n",
      "|          | 0\\x00\\x00\\x00\\x00\\x00\\x00\\x00\\x00\\x00K7\\x0c\\x0b\\x9c\\xd2\\x1d<\\x10/Satoshi:0.16.0/ |\n",
      "|          | Y'\\x08\\x00\\x01\"                                                                  |\n",
      "+----------+----------------------------------------------------------------------------------+\n"
     ]
    }
   ],
   "source": [
    "import socket\n",
    "\n",
    "PEER_IP = \"35.187.200.6\"\n",
    "PEER_PORT = 8333\n",
    "\n",
    "# magic \"version\" bytestring\n",
    "VERSION = b'\\xf9\\xbe\\xb4\\xd9version\\x00\\x00\\x00\\x00\\x00j\\x00\\x00\\x00\\x9b\"\\x8b\\x9e\\x7f\\x11\\x01\\x00\\x0f\\x04\\x00\\x00\\x00\\x00\\x00\\x00\\x93AU[\\x00\\x00\\x00\\x00\\x0f\\x04\\x00\\x00\\x00\\x00\\x00\\x00\\x00\\x00\\x00\\x00\\x00\\x00\\x00\\x00\\x00\\x00\\x00\\x00\\x00\\x00\\x00\\x00\\x00\\x00\\x0f\\x04\\x00\\x00\\x00\\x00\\x00\\x00\\x00\\x00\\x00\\x00\\x00\\x00\\x00\\x00\\x00\\x00\\x00\\x00\\x00\\x00\\x00\\x00\\x00\\x00rV\\xc5C\\x9b:\\xea\\x89\\x14/some-cool-software/\\x01\\x00\\x00\\x00\\x01'\n",
    "\n",
    "sock = socket.socket()\n",
    "sock.connect((PEER_IP, PEER_PORT))\n",
    "\n",
    "# initiate the \"version handshake\"\n",
    "sock.send(VERSION)\n",
    "\n",
    "# receive their \"version\" response\n",
    "version_message = Packet.from_socket(sock)\n",
    "\n",
    "print(version_message)"
   ]
  },
  {
   "cell_type": "markdown",
   "metadata": {},
   "source": [
    "Same as last time, but you may notice that `Packet` instances look like pretty tables when printed. This is because I added a `Network.__str__` method to our `Packet` class definition, which is the function python calls when determining _how_ to print a given object. This `Packet.__str__` method simply runs a few of its values through this wonderful [tabulate](https://bitbucket.org/astanin/python-tabulate) program, which I added to our requirements.txt file.\n",
    "\n",
    "Our next task is to parse this payload. Besides the \"/Satoshi:0.16.0/\" -- clearly a user agent -- the rest of the payload isn't human readable.\n",
    "\n",
    "But have no fear -- we will decode the message payload in the same manner as we decoded the overall message structure in our `Packet.from_socket` method. \n",
    "\n",
    "[This chart](https://en.bitcoin.it/wiki/Protocol_documentation#version) from the protocol documentation will act as our blueprint.\n",
    "\n",
    "![image](./images/version-message.png)\n",
    "\n",
    "### Exercise #1: parse the version field contained within the payload of the version (a mouthful, I know!)"
   ]
  },
  {
   "cell_type": "code",
   "execution_count": 11,
   "metadata": {},
   "outputs": [
    {
     "ename": "SyntaxError",
     "evalue": "invalid syntax (<ipython-input-11-4d218fce829f>, line 3)",
     "output_type": "error",
     "traceback": [
      "\u001b[0;36m  File \u001b[0;32m\"<ipython-input-11-4d218fce829f>\"\u001b[0;36m, line \u001b[0;32m3\u001b[0m\n\u001b[0;31m    )\u001b[0m\n\u001b[0m    ^\u001b[0m\n\u001b[0;31mSyntaxError\u001b[0m\u001b[0;31m:\u001b[0m invalid syntax\n"
     ]
    }
   ],
   "source": [
    "# binary_stream will look something like this:\n",
    "# binary_stream = BytesIO(b'\\x7f\\x11\\x01\\x00\\r\\x04\\x00\\x00\\x00\\x00\\x00\\x00\\xb4\\x9dZ[\\x00\\x00\\x00\\x00\\x0f\\x04\\x00\\x00\\x00\\x00\\x00\\x00\\x00\\x00\\x00\\x00\\x00\\x00\\x00\\x00\\x00\\x00\\x00\\x00\\x00\\x00\\x00\\x00\\x00\\x00\\r\\x04\\x00\\x00\\x00\\x00\\x00\\x00\\x00\\x00\\x00\\x00\\x00\\x00\\x00\\x00\\x00\\x00\\x00\\x00\\x00\\x00\\x00\\x00\\x00\\x00b\\x8f\\xc9N~]\\x00\\xb2\\x10/Satoshi:0.16.0/p%\\x08\\x00\\x01')\n",
    "\n",
    "def read_version(binary_stream):\n",
    "    ### your code here ###\n",
    "    # step 1: read the correct number of bytes from `binary_stream` according to \"field size\" column above\n",
    "    # step 2: interpret these bytes according to the \"data type\" column above\n",
    "    bytes_ = binary_stream.read(4)\n",
    "    int_ = bytes_to_int(bytes_)\n",
    "    return int_"
   ]
  },
  {
   "cell_type": "code",
   "execution_count": 9,
   "metadata": {},
   "outputs": [
    {
     "name": "stderr",
     "output_type": "stream",
     "text": [
      "unittest.case.FunctionTestCase (test_read_version_0) ... ERROR\n",
      "unittest.case.FunctionTestCase (test_read_version_1) ... ERROR\n",
      "unittest.case.FunctionTestCase (test_read_version_2) ... ERROR\n",
      "runTest (ipytest._DocTestCase) ... ok\n",
      "\n",
      "======================================================================\n",
      "ERROR: unittest.case.FunctionTestCase (test_read_version_0)\n",
      "----------------------------------------------------------------------\n",
      "Traceback (most recent call last):\n",
      "  File \"<ipython-input-9-732795f80e81>\", line 9, in test_read_version_0\n",
      "    n = read_version(version_streams[0])\n",
      "NameError: name 'read_version' is not defined\n",
      "\n",
      "======================================================================\n",
      "ERROR: unittest.case.FunctionTestCase (test_read_version_1)\n",
      "----------------------------------------------------------------------\n",
      "Traceback (most recent call last):\n",
      "  File \"<ipython-input-9-732795f80e81>\", line 13, in test_read_version_1\n",
      "    n = read_version(version_streams[1])\n",
      "NameError: name 'read_version' is not defined\n",
      "\n",
      "======================================================================\n",
      "ERROR: unittest.case.FunctionTestCase (test_read_version_2)\n",
      "----------------------------------------------------------------------\n",
      "Traceback (most recent call last):\n",
      "  File \"<ipython-input-9-732795f80e81>\", line 17, in test_read_version_2\n",
      "    n = read_version(version_streams[2])\n",
      "NameError: name 'read_version' is not defined\n",
      "\n",
      "----------------------------------------------------------------------\n",
      "Ran 4 tests in 0.012s\n",
      "\n",
      "FAILED (errors=3)\n"
     ]
    }
   ],
   "source": [
    "import ipytest, pytest\n",
    "import test_data\n",
    "\n",
    "version_streams = test_data.make_version_streams()\n",
    "\n",
    "def test_read_version_0():\n",
    "    n = read_version(version_streams[0])\n",
    "    assert n == 70015\n",
    "\n",
    "def test_read_version_1():\n",
    "    n = read_version(version_streams[1])\n",
    "    assert n == 60001\n",
    "\n",
    "def test_read_version_2():\n",
    "    n = read_version(version_streams[2])\n",
    "    assert n == 106\n",
    "    \n",
    "ipytest.run_tests(doctest=True)\n",
    "ipytest.clean_tests(\"test_read_version*\")"
   ]
  },
  {
   "cell_type": "markdown",
   "metadata": {},
   "source": [
    "\n",
    "### Exercise #2: Given a version message binary stream, tell me whether the node that sent it can send a `pong` message ([hint](https://bitcoin.org/en/developer-reference#protocol-versions))."
   ]
  },
  {
   "cell_type": "code",
   "execution_count": 6,
   "metadata": {},
   "outputs": [],
   "source": [
    "def can_send_pong(binary_stream):\n",
    "    ### your code here ###\n",
    "    return read_version(binary_stream) >= 60001"
   ]
  },
  {
   "cell_type": "code",
   "execution_count": 7,
   "metadata": {},
   "outputs": [
    {
     "name": "stderr",
     "output_type": "stream",
     "text": [
      "unittest.case.FunctionTestCase (test_can_send_pong_0) ... ok\n",
      "unittest.case.FunctionTestCase (test_can_send_pong_1) ... ok\n",
      "unittest.case.FunctionTestCase (test_can_send_pong_2) ... ok\n",
      "\n",
      "----------------------------------------------------------------------\n",
      "Ran 3 tests in 0.002s\n",
      "\n",
      "OK\n"
     ]
    }
   ],
   "source": [
    "version_streams = test_data.make_version_streams()\n",
    "\n",
    "def test_can_send_pong_0():\n",
    "    result = can_send_pong(version_streams[0])\n",
    "    assert result == True\n",
    "\n",
    "def test_can_send_pong_1():\n",
    "    result = can_send_pong(version_streams[1])\n",
    "    assert result == True\n",
    "\n",
    "def test_can_send_pong_2():\n",
    "    result = can_send_pong(version_streams[2])\n",
    "    assert result == False\n",
    "    \n",
    "ipytest.run_tests(doctest=True)\n",
    "ipytest.clean_tests(\"test_can_send_pong*\")"
   ]
  },
  {
   "cell_type": "markdown",
   "metadata": {},
   "source": [
    "Now we've got the hang of it.\n",
    "\n",
    "Here's the outline of a `VersionMessage` class.\n",
    "\n",
    "* It will have an `__init__` constructor method, which allows us to pass custom attrivutes like `timestamp` which may never take the same value twice if this code were running in production.\n",
    "* It will have a hard-coded (\"class variable\")[https://www.toptal.com/python/python-class-attributes-an-overly-thorough-guide] of `command = b\"version\"`. With this decision we are setting a convention: any instance of this class or the other 26 XMessage classes we still have to implement will have a `.command` attribute so we can always know why kind of message we're dealing with.\n",
    "* `VersionMessage.from_bytes` is also a convention that all 26 other `XMessage` classes will implement. Let's assume we are trying to handle an incoming `Packet` insance, which we will call `packet`. The purpose of this `VersionMessage.from_bytes` classmethod is to take the value of `packet.payload`, and based on `packet.command`, correctly read the payload values and instantiate an instance of the `XMessage` class. So, if `packet.command` is `b\"block\"` then we will need to read [these values](https://en.bitcoin.it/wiki/Protocol_documentation#block) and use them to instantiate a `BlockMessage` object. `packet.payload`s are raw bytes, which are much easier to read `n` bytes at a time if we first turn them into an `io.BytesIO` object -- so that's what we'll do.\n",
    "* Lastly, you will notice `read_int`, `read_var_str`, `read_var_int` and `read_bool` methods, which we need to implement. Since we will doing some of these operations over and over again -- such as reading `n` bytes and interpreting them as a Python `int`, it makes sense to implement so-called \"helper methods\" to simplify our code, make it more testable and readable. "
   ]
  },
  {
   "cell_type": "code",
   "execution_count": 8,
   "metadata": {},
   "outputs": [],
   "source": [
    "class VersionMessage:\n",
    "\n",
    "    command = b\"version\"\n",
    "\n",
    "    def __init__(self, version, services, timestamp, addr_recv, addr_from, \n",
    "                 nonce, user_agent, start_height, relay):\n",
    "        self.version = version\n",
    "        self.services = services\n",
    "        self.timestamp = timestamp\n",
    "        self.addr_recv = addr_recv\n",
    "        self.addr_from = addr_from\n",
    "        self.nonce = nonce\n",
    "        self.user_agent = user_agent\n",
    "        self.start_height = start_height\n",
    "        self.relay = relay\n",
    "\n",
    "    @classmethod\n",
    "    def from_bytes(cls, payload):\n",
    "        stream = BytesIO(payload)\n",
    "        \n",
    "        version = read_int(stream, 4)\n",
    "        services = read_int(stream, 8)\n",
    "        timestamp = read_int(stream, 8)\n",
    "        addr_recv = stream.read(26)\n",
    "        addr_from = stream.read(26)\n",
    "        nonce = read_int(stream, 8)\n",
    "        user_agent = read_var_str(stream)\n",
    "        start_height = read_int(stream, 4)\n",
    "        relay = read_bool(stream)\n",
    "        \n",
    "        return cls(version, services, timestamp, addr_recv, addr_from, \n",
    "                   nonce, user_agent, start_height, relay)\n",
    "    \n"
   ]
  },
  {
   "cell_type": "markdown",
   "metadata": {},
   "source": [
    "![image](./images/version-message.png)\n",
    "\n",
    "The `from_bytes` classmethod just translates the `Description` and `Data Type` columns of the above protocol documentation chart into python code. \n",
    "\n",
    "Here we encounter some \"types\" that we're familiar with abstracting the Bitcoin protocol's [general message structure](https://en.bitcoin.it/wiki/Protocol_documentation#Message_structure) with our `Packet` class -- `int32_t` / `uint64_t` / `int64_t` -- which are different types in a \"low-level\" language like C++, but are all equivalent to the `int` type in Python. Our previously implemented `bytes_to_int` can handle these just fine.\n",
    "\n",
    "But we also encounter some new types: `net_addr`, `varstr`, and `bool`. Even worse, if we click on the [`varstr` link](https://en.bitcoin.it/wiki/Protocol_documentation#Variable_length_string) we see that it contains one additional type: `varint`. Worse still, the [`net_addr` link](https://en.bitcoin.it/wiki/Protocol_documentation#Network_address) contains a `time`, `services` and `IPv6/4` fields nominally of types `uint32`, `uint64_t` and `char[16]` but in order for us to make sense of what they hell them mean each requires parsing: the `time` integer as a Unix timestamp, the `services` integer as a damn \"bitfield\" (whatever that is!), and `IPv6/4` IP address as a 16 digit bytestring where the first 12 digits are always `00 00 00 00 00 00 00 00 00 00 FF FF` and only the last 4 matter! Oh, and remember how I mentioned that Satoshi usually, but not always, encoded his integers with \"little endian\" byte order (most significant digits is on the left)? Well the `port` attribute of `net_addr` is encoded \"big endian\", where the most significant digit is on the right. Yes, the exact opposite of everything else!!!\n",
    "\n",
    "Hunker down for a looooooong lesson!"
   ]
  },
  {
   "cell_type": "markdown",
   "metadata": {},
   "source": [
    "# \"Integer\" fields\n",
    "\n",
    "In the last lesson we implemented `bytes_to_int(n)`. We'll start tackling all this mountain of work by implementing a small helper method `read_int(stream)` atop `bytes_to_int(n)` which first reads `n` from `stream` and then calls `bytes_to_int` with the bytes it read.\n",
    "\n",
    "Adn we're going to create an argument`byte_order` which will default to `little` because almost every integer our program deals with will be little-endian encoded. But IP ports -- and soon other -- are big-endian encoded so we must allow callers to override this `bytes_order=\"little\"` default value if they have a big-endian endcoded integer on their hands."
   ]
  },
  {
   "cell_type": "code",
   "execution_count": 12,
   "metadata": {},
   "outputs": [],
   "source": [
    "def read_int(stream, n, byte_order='little'):\n",
    "    b = stream.read(n)\n",
    "    return bytes_to_int(b, byte_order)"
   ]
  },
  {
   "cell_type": "markdown",
   "metadata": {},
   "source": [
    "# \"Boolean\" fields\n",
    "\n",
    "`bool` is the next simplest: it's a `1` or it's `0`. Actually, it's even simpler, huh? But we're going to resuse the code above so I'm introducing it second.\n",
    "\n",
    "In fact, we could just use `read_int` and pass around `1`'s and `0`'s and our program would work just fine. After all, in Python the statement `1 == True and 0 == False` evaluates to `True` in Python. But Python gives us a built-in `bool` class for dealing with true-or-false, 1-or-0 values because it gives our programs greater clarity and readability.\n",
    "\n",
    "### Exercise #3: implement `read_bool`"
   ]
  },
  {
   "cell_type": "code",
   "execution_count": 72,
   "metadata": {},
   "outputs": [],
   "source": [
    "def read_bool(stream):\n",
    "    bytes_ = stream.read(1)\n",
    "#     if len(bytes_) != 1:\n",
    "#         raise RuntimeError(\"Stream ran dry\")\n",
    "    integer =  bytes_to_int(bytes_)\n",
    "    boolean = bool(integer)\n",
    "    return boolean"
   ]
  },
  {
   "cell_type": "code",
   "execution_count": 18,
   "metadata": {},
   "outputs": [
    {
     "name": "stderr",
     "output_type": "stream",
     "text": [
      "unittest.case.FunctionTestCase (test_read_bool_0) ... ok\n",
      "unittest.case.FunctionTestCase (test_read_bool_1) ... ok\n",
      "\n",
      "----------------------------------------------------------------------\n",
      "Ran 2 tests in 0.001s\n",
      "\n",
      "OK\n"
     ]
    }
   ],
   "source": [
    "import test_data\n",
    "\n",
    "def test_read_bool_0():\n",
    "    stream = test_data.make_stream(test_data.true_bytes)\n",
    "    result = read_bool(stream)\n",
    "    assert type(result) == bool\n",
    "    assert result is True\n",
    "    \n",
    "def test_read_bool_1():\n",
    "    stream = test_data.make_stream(test_data.false_bytes)\n",
    "    result = read_bool(stream)\n",
    "    assert type(result) == bool\n",
    "    assert result is False\n",
    "    \n",
    "ipytest.run_tests(doctest=True)\n",
    "ipytest.clean_tests(\"test_read_bool_*\")"
   ]
  },
  {
   "cell_type": "markdown",
   "metadata": {},
   "source": [
    "Once you get your `read_bool` function to pass these tests by successfully reading `True` and `False` values, I want you to implement one more thing.\n",
    "\n",
    "I want you to raise a RuntimeError if `stream.read(n)` doesn't return a byte string of length `n`. This is just a check to make sure that our program is running correctly."
   ]
  },
  {
   "cell_type": "code",
   "execution_count": 19,
   "metadata": {},
   "outputs": [
    {
     "name": "stderr",
     "output_type": "stream",
     "text": [
      "unittest.case.FunctionTestCase (test_read_bool_2) ... ok\n",
      "\n",
      "----------------------------------------------------------------------\n",
      "Ran 1 test in 0.001s\n",
      "\n",
      "OK\n"
     ]
    }
   ],
   "source": [
    "def test_read_bool_2():\n",
    "    stream = test_data.make_stream(b\"\")\n",
    "    with pytest.raises(RuntimeError) as e_info:\n",
    "        result = read_bool(stream)\n",
    "\n",
    "ipytest.run_tests(doctest=True)\n",
    "ipytest.clean_tests(\"test_read_bool_*\")"
   ]
  },
  {
   "cell_type": "markdown",
   "metadata": {},
   "source": [
    "# Timestamp fields\n",
    "\n",
    "Network messages us Unix timestamps whenever they communicate a timestamp.\n",
    "\n",
    "Here's how we interpret a Unix timestamp in Python"
   ]
  },
  {
   "cell_type": "code",
   "execution_count": 127,
   "metadata": {},
   "outputs": [],
   "source": [
    "from datetime import datetime\n",
    "\n",
    "def read_timestamp(stream):\n",
    "    timestamp = read_int(stream, 8)\n",
    "    return datetime.fromtimestamp(timestamp)\n"
   ]
  },
  {
   "cell_type": "markdown",
   "metadata": {},
   "source": [
    "# \"Variable Length\" fields"
   ]
  },
  {
   "cell_type": "markdown",
   "metadata": {},
   "source": [
    "Next comes `var_str`, the type of the \"User Agent\", which is basically an advertisement of the Bitcoin software implementation that the node is using. You can see a listing of popular values [here](https://bitnodes.earn.com/nodes/).\n",
    "\n",
    "[\"Variable Length Strings\"](https://en.bitcoin.it/wiki/Protocol_documentation#Variable_length_string) are used for values that string fields undependable length. This technique strives to use only the space it needs. It does this by prepending a \"variable length integer\" in front of the string value being communicated. This `var_int` tells the recipient how many bytes they need to read to get the string value being communicated. This is kind of similar to hopw the payload bytes are handled in our `Packet.from_bytes` -- first we read `length` and then we read `lenght`-many bytes to get our raw payload. Same idea here, but now the length of the string isn't an integer, but a \"variable length integer\".\n",
    "\n",
    "How does `var_int` work?\n",
    "\n",
    "The first byte of a `var_int` is a marker which says how many bytes come after it:\n",
    "* `0xFF`: 8 byte integer follows\n",
    "* `0xFE`: 4 byte integer follows\n",
    "* `0xFD`: 2 byte integer follows\n",
    "* < `0xFD`: interpret first byte as a 1 byte integer\n",
    "\n",
    "### Exercise #4:  implement `var_int`, since `var_str` depends on it."
   ]
  },
  {
   "cell_type": "code",
   "execution_count": 137,
   "metadata": {},
   "outputs": [],
   "source": [
    "def read_var_int(stream):\n",
    "    i = read_int(stream, 1)\n",
    "    if i == 0xff:\n",
    "        return bytes_to_int(stream.read(8))\n",
    "    elif i == 0xfe:\n",
    "        return bytes_to_int(stream.read(4))\n",
    "    elif i == 0xfd:\n",
    "        return bytes_to_int(stream.read(2))\n",
    "    else:\n",
    "        return i"
   ]
  },
  {
   "cell_type": "code",
   "execution_count": 99,
   "metadata": {},
   "outputs": [
    {
     "name": "stderr",
     "output_type": "stream",
     "text": [
      "unittest.case.FunctionTestCase (test_read_var_int) ... ok\n",
      "runTest (ipytest._DocTestCase) ... ok\n",
      "runTest (ipytest._DocTestCase) ... ok\n",
      "runTest (ipytest._DocTestCase) ... ok\n",
      "runTest (ipytest._DocTestCase) ... ok\n",
      "runTest (ipytest._DocTestCase) ... ok\n",
      "runTest (ipytest._DocTestCase) ... ok\n",
      "runTest (ipytest._DocTestCase) ... ok\n",
      "runTest (ipytest._DocTestCase) ... ok\n",
      "runTest (ipytest._DocTestCase) ... ok\n",
      "runTest (ipytest._DocTestCase) ... ok\n",
      "runTest (ipytest._DocTestCase) ... ok\n",
      "runTest (ipytest._DocTestCase) ... ok\n",
      "runTest (ipytest._DocTestCase) ... ok\n",
      "runTest (ipytest._DocTestCase) ... "
     ]
    },
    {
     "name": "stdout",
     "output_type": "stream",
     "text": [
      "var int first bytes 255\n",
      "var int first bytes 254\n",
      "var int first bytes 253\n",
      "var int first bytes 7\n"
     ]
    },
    {
     "name": "stderr",
     "output_type": "stream",
     "text": [
      "ok\n",
      "\n",
      "----------------------------------------------------------------------\n",
      "Ran 15 tests in 0.036s\n",
      "\n",
      "OK\n"
     ]
    }
   ],
   "source": [
    "import ipytest, pytest\n",
    "import test_data as td\n",
    "\n",
    "enumerated = (\n",
    "    (td.eight_byte_int, td.eight_byte_var_int),\n",
    "    (td.four_byte_int, td.four_byte_var_int),\n",
    "    (td.two_byte_int, td.two_byte_var_int),\n",
    "    (td.one_byte_int, td.one_byte_var_int),\n",
    ")\n",
    "\n",
    "def test_read_var_int():\n",
    "    for correct_int, var_int in enumerated:\n",
    "        stream = td.make_stream(var_int)\n",
    "        calculated_int = read_var_int(stream)\n",
    "        assert correct_int == calculated_int\n",
    "\n",
    "ipytest.run_tests(doctest=True)\n",
    "ipytest.clean_tests(\"test_read_var_int*\")"
   ]
  },
  {
   "cell_type": "markdown",
   "metadata": {},
   "source": [
    "Now that we have that out of the way:\n",
    "\n",
    "### Exercise #5: Implement `read_var_str`"
   ]
  },
  {
   "cell_type": "code",
   "execution_count": 138,
   "metadata": {},
   "outputs": [],
   "source": [
    "def read_var_str(stream):\n",
    "    length = read_var_int(stream)\n",
    "    string = stream.read(length)\n",
    "    return string"
   ]
  },
  {
   "cell_type": "code",
   "execution_count": 46,
   "metadata": {},
   "outputs": [
    {
     "name": "stderr",
     "output_type": "stream",
     "text": [
      "unittest.case.FunctionTestCase (test_read_var_str) ... ok\n",
      "\n",
      "----------------------------------------------------------------------\n",
      "Ran 1 test in 0.001s\n",
      "\n",
      "OK\n"
     ]
    }
   ],
   "source": [
    "import ipytest, pytest\n",
    "import test_data as td\n",
    "\n",
    "enumerated = (\n",
    "    (td.short_str, td.short_var_str),\n",
    "    (td.long_str, td.long_var_str),\n",
    ")\n",
    "\n",
    "def test_read_var_str():\n",
    "    for correct_byte_str, var_str in enumerated:\n",
    "        stream = td.make_stream(var_str)\n",
    "        calculated_byte_str = read_var_str(stream)\n",
    "        assert correct_byte_str == calculated_byte_str\n",
    "\n",
    "ipytest.run_tests(doctest=True)\n",
    "ipytest.clean_tests(\"test_read_var_str*\")"
   ]
  },
  {
   "cell_type": "markdown",
   "metadata": {},
   "source": [
    "# `services` field\n",
    "\n",
    "[The version section of the protocol docs](https://en.bitcoin.it/wiki/Protocol_documentation#version) provides us with the following guide for interpreting the `services` field of the `version` payload:\n",
    "\n",
    "![image](images/services.png)\n",
    "\n",
    "The type of this field is \"bitfield\". [Check out the wikipedia entry](https://en.wikipedia.org/wiki/Bit_field) for a better explanation that I can provide.\n",
    "\n",
    "In a bitfield every bit holds some pre-defined meaning. This is a 8 byte / 64 bit bitfield (remember, a byte is just a collection of 8 bits so 8 bytes is 8*8=64 bits).\n",
    "\n",
    "\n",
    "From the table above we can see that the least significant digit in the binary representation (decimal value `2^0=1`) represents `NODE_NETWORK`, or whether this peer \"can be asked for full blocks or just headers\".\n",
    "\n",
    "The second least-significant digit (decimal value `2^1=2`) NODE_GETUTXO\n",
    "\n",
    "The third least-significant digit (decimal value `2^2=4`)NODE_BLOOM\n",
    "\n",
    "The fourth least-significant digit (decimal value `2^3=8`) NODE_WITNESS\n",
    "\n",
    "The eleventh least-significant digit (decimal value `2^10=1024`) NODE_NETWORK_LIMITED\n",
    "\n",
    "The rest of the bits (decimal values `2*n` where n in {4, 5, 6, 7, 8, 9, 11, 12, ..., 63} have no meaning, yet.\n",
    "\n",
    "So, in order to interpret this field we need to look up the nth bit in the table above and see if it means anything.\n",
    "\n",
    "So, in python we want to be able to basically produce a dictionary like this for every node we connect to. This would allow us to look up what services that node offers _by name_.\n",
    "\n",
    "```\n",
    "{\n",
    "    'NODE_NETWORK': True,\n",
    "    'NODE_GETUTXO': False,\n",
    "    'NODE_BLOOM': True,\n",
    "    'NODE_WITNESS': False,\n",
    "    'NODE_NETWORK_LIMITED': True,\n",
    "}\n",
    "```\n",
    "\n",
    "Furthermore, we could write a function that produces this lookup table for us given an integer bitfield and a magical `check_bit(n)` function:\n",
    "\n",
    "```\n",
    "def read_services(stream):\n",
    "    n = read_int(stream, 4)\n",
    "    return {\n",
    "        'NODE_NETWORK': check_bit(services_int, 0),           # 1    = 2**0\n",
    "        'NODE_GETUTXO': check_bit(services_int, 1),           # 2    = 2**1\n",
    "        'NODE_BLOOM': check_bit(services_int, 2),             # 4    = 2**2\n",
    "        'NODE_WITNESS': check_bit(services_int, 3),           # 8    = 2**3\n",
    "        'NODE_NETWORK_LIMITED': check_bit(services_int, 10),  # 1024 = 2**10\n",
    "    }\n",
    "```\n",
    "\n",
    "For now, I'm just going to give you a definition of the magical `check_bit` function:"
   ]
  },
  {
   "cell_type": "code",
   "execution_count": 89,
   "metadata": {},
   "outputs": [],
   "source": [
    "def check_bit(number, index):\n",
    "    \"\"\"See if the bit at `index` in binary representation of `number` is on\"\"\"\n",
    "    mask = 1 << index\n",
    "    return bool(number & mask)\n",
    "\n",
    "def services_int_to_dict(services_int):\n",
    "    return {\n",
    "        'NODE_NETWORK': check_bit(services_int, 0),           # 1    = 2**0\n",
    "        'NODE_GETUTXO': check_bit(services_int, 1),           # 2    = 2**1\n",
    "        'NODE_BLOOM': check_bit(services_int, 2),             # 4    = 2**2\n",
    "        'NODE_WITNESS': check_bit(services_int, 3),           # 8    = 2**3\n",
    "        'NODE_NETWORK_LIMITED': check_bit(services_int, 10),  # 1024 = 2**10\n",
    "    }\n",
    "\n",
    "def read_services(stream):\n",
    "    services_int = read_int(stream, 8)\n",
    "    return services_int_to_dict(services_int)"
   ]
  },
  {
   "cell_type": "markdown",
   "metadata": {},
   "source": [
    "Here's some `read_services` outputs for some possible inputs:"
   ]
  },
  {
   "cell_type": "code",
   "execution_count": 41,
   "metadata": {},
   "outputs": [
    {
     "name": "stdout",
     "output_type": "stream",
     "text": [
      "'(n=1)'\n",
      "{'NODE_BLOOM': False,\n",
      " 'NODE_GETUTXO': False,\n",
      " 'NODE_NETWORK': True,\n",
      " 'NODE_NETWORK_LIMITED': False,\n",
      " 'NODE_WITNESS': False}\n",
      "\n",
      "'(n=8)'\n",
      "{'NODE_BLOOM': False,\n",
      " 'NODE_GETUTXO': False,\n",
      " 'NODE_NETWORK': False,\n",
      " 'NODE_NETWORK_LIMITED': False,\n",
      " 'NODE_WITNESS': True}\n",
      "\n",
      "'(n=9)'\n",
      "{'NODE_BLOOM': False,\n",
      " 'NODE_GETUTXO': False,\n",
      " 'NODE_NETWORK': True,\n",
      " 'NODE_NETWORK_LIMITED': False,\n",
      " 'NODE_WITNESS': True}\n",
      "\n",
      "'(n=1024)'\n",
      "{'NODE_BLOOM': False,\n",
      " 'NODE_GETUTXO': False,\n",
      " 'NODE_NETWORK': False,\n",
      " 'NODE_NETWORK_LIMITED': True,\n",
      " 'NODE_WITNESS': False}\n",
      "\n",
      "'(n=1032)'\n",
      "{'NODE_BLOOM': False,\n",
      " 'NODE_GETUTXO': False,\n",
      " 'NODE_NETWORK': False,\n",
      " 'NODE_NETWORK_LIMITED': True,\n",
      " 'NODE_WITNESS': True}\n",
      "\n",
      "'(n=1039)'\n",
      "{'NODE_BLOOM': True,\n",
      " 'NODE_GETUTXO': True,\n",
      " 'NODE_NETWORK': True,\n",
      " 'NODE_NETWORK_LIMITED': True,\n",
      " 'NODE_WITNESS': True}\n",
      "\n",
      "'(n=33554976)'\n",
      "{'NODE_BLOOM': False,\n",
      " 'NODE_GETUTXO': False,\n",
      " 'NODE_NETWORK': False,\n",
      " 'NODE_NETWORK_LIMITED': False,\n",
      " 'NODE_WITNESS': False}\n",
      "\n"
     ]
    }
   ],
   "source": [
    "from pprint import pprint\n",
    "\n",
    "bitfields = [\n",
    "    1,\n",
    "    8,\n",
    "    1 + 8,\n",
    "    1024,\n",
    "    8 + 1024,\n",
    "    1 + 2 + 4 + 8 + 1024,\n",
    "    2**5 + 2**9 + 2**25,\n",
    "]\n",
    "\n",
    "for bitfield in bitfields:\n",
    "    pprint(f\"(n={bitfield})\")\n",
    "    stream = BytesIO(int_to_bytes(bitfield, 4))\n",
    "    pprint(read_services(stream))\n",
    "    print()"
   ]
  },
  {
   "cell_type": "markdown",
   "metadata": {},
   "source": [
    "Hopefully that kind of makes sense.\n",
    "\n",
    "### Exercise #6: complete these useless functions to hammer home you understanding of this strange `services` \"bitfield\""
   ]
  },
  {
   "cell_type": "code",
   "execution_count": 42,
   "metadata": {},
   "outputs": [],
   "source": [
    "def offers_node_network_service(services_bitfield):\n",
    "    # given integer services_bitfield, return whether the NODE_NETWORK bit is on\n",
    "    return services_int_to_dict(services_bitfield)['NODE_NETWORK']\n",
    "\n",
    "def offers_node_bloom_and_node_witness_services(services_bitfield):\n",
    "    # given integer services_bitfield, return whether the \n",
    "    # NODE_BLOOM and NODE_WITNESS bits are on\n",
    "    return services_int_to_dict(services_bitfield)['NODE_BLOOM'] \\\n",
    "        and services_int_to_dict(services_bitfield)['NODE_WITNESS']"
   ]
  },
  {
   "cell_type": "code",
   "execution_count": 43,
   "metadata": {
    "scrolled": true
   },
   "outputs": [
    {
     "name": "stderr",
     "output_type": "stream",
     "text": [
      "unittest.case.FunctionTestCase (test_services_0) ... ok\n",
      "unittest.case.FunctionTestCase (test_services_1) ... ok\n",
      "\n",
      "----------------------------------------------------------------------\n",
      "Ran 2 tests in 0.002s\n",
      "\n",
      "OK\n"
     ]
    }
   ],
   "source": [
    "import ipytest, pytest\n",
    "\n",
    "def test_services_0():\n",
    "    assert offers_node_network_service(1) is True\n",
    "    assert offers_node_network_service(1 + 8) is True\n",
    "    assert offers_node_network_service(4) is False\n",
    "    \n",
    "\n",
    "def test_services_1():\n",
    "    assert offers_node_bloom_and_node_witness_services(1) is False\n",
    "    assert offers_node_bloom_and_node_witness_services(1 + 8) is False\n",
    "    assert offers_node_bloom_and_node_witness_services(4 + 8) is True\n",
    "    \n",
    "ipytest.run_tests(doctest=True)\n",
    "ipytest.clean_tests(\"test_services*\")"
   ]
  },
  {
   "cell_type": "code",
   "execution_count": 299,
   "metadata": {},
   "outputs": [],
   "source": [
    "def services_offered(bitfield):\n",
    "    return [k for k, v in services_int_to_dict(bitfield).items() if v]"
   ]
  },
  {
   "cell_type": "code",
   "execution_count": 44,
   "metadata": {
    "scrolled": true
   },
   "outputs": [
    {
     "name": "stderr",
     "output_type": "stream",
     "text": [
      "unittest.case.FunctionTestCase (test_services_offered) ... ERROR\n",
      "\n",
      "======================================================================\n",
      "ERROR: unittest.case.FunctionTestCase (test_services_offered)\n",
      "----------------------------------------------------------------------\n",
      "Traceback (most recent call last):\n",
      "  File \"<ipython-input-44-2d1def9011d5>\", line 12, in test_services_offered\n",
      "    v = VersionMessage.from_bytes(raw_version)\n",
      "  File \"<ipython-input-9-1a5fbd798093>\", line 28, in from_bytes\n",
      "    user_agent = read_var_str(stream)\n",
      "NameError: name 'read_var_str' is not defined\n",
      "\n",
      "----------------------------------------------------------------------\n",
      "Ran 1 test in 0.001s\n",
      "\n",
      "FAILED (errors=1)\n"
     ]
    }
   ],
   "source": [
    "import ipytest, pytest\n",
    "\n",
    "raw_version_to_services_offered = {\n",
    "    b'\\x7f\\x11\\x01\\x00\\r\\x04\\x00\\x00\\x00\\x00\\x00\\x00\\xa3\\xfcY[\\x00\\x00\\x00\\x00\\x00\\x00\\x00\\x00\\x00\\x00\\x00\\x00\\x00\\x00\\x00\\x00\\x00\\x00\\x00\\x00\\x00\\x00\\xff\\xffh\\x05=\\x04\\x9b\\xf8\\r\\x04\\x00\\x00\\x00\\x00\\x00\\x00\\x00\\x00\\x00\\x00\\x00\\x00\\x00\\x00\\x00\\x00\\x00\\x00\\x00\\x00\\x00\\x00\\x00\\x00\\x88\\x88\\x18\\xfaf\\x93\\x92\\x97\\x10/Satoshi:0.16.0/\\x0eq\\x07\\x00\\x01': ['NODE_NETWORK', 'NODE_BLOOM', 'NODE_WITNESS', 'NODE_NETWORK_LIMITED'],\n",
    "    b'r\\x11\\x01\\x00\\x01\\x00\\x00\\x00\\x00\\x00\\x00\\x00\\xf8\\xfcY[\\x00\\x00\\x00\\x00\\x01\\x00\\x00\\x00\\x00\\x00\\x00\\x00\\x00\\x00\\x00\\x00\\x00\\x00\\x00\\x00\\x00\\x00\\xff\\xffh\\x05=\\x04\\xc3N\\x01\\x00\\x00\\x00\\x00\\x00\\x00\\x00\\x00\\x00\\x00\\x00\\x00\\x00\\x00\\x00\\x00\\x00\\xff\\xffR\\x16x\\xe8 \\x8d+L\\xd2\\xab\\xc1\\xd8\\x0c\\xeb\\x0f/Satoshi:0.9.3/n\\x80\\x06\\x00\\x01': ['NODE_NETWORK'],\n",
    "    b'\\x7f\\x11\\x01\\x00\\r\\x00\\x00\\x00\\x00\\x00\\x00\\x00|\\xfcY[\\x00\\x00\\x00\\x00\\x00\\x00\\x00\\x00\\x00\\x00\\x00\\x00\\x00\\x00\\x00\\x00\\x00\\x00\\x00\\x00\\x00\\x00\\xff\\xffh\\x05=\\x04\\xc9.\\r\\x00\\x00\\x00\\x00\\x00\\x00\\x00\\x00\\x00\\x00\\x00\\x00\\x00\\x00\\x00\\x00\\x00\\x00\\x00\\x00\\x00\\x00\\x00\\x00\\x00\\x8b3;\\xd3\\xde-Y\\x99\\x10/Satoshi:0.15.0/&%\\x08\\x00\\x01': ['NODE_NETWORK', 'NODE_BLOOM', 'NODE_WITNESS'],\n",
    "    b'\\x7f\\x11\\x01\\x00\\x0c\\x04\\x00\\x00\\x00\\x00\\x00\\x00y\\xfcY[\\x00\\x00\\x00\\x00\\x00\\x00\\x00\\x00\\x00\\x00\\x00\\x00\\x00\\x00\\x00\\x00\\x00\\x00\\x00\\x00\\x00\\x00\\xff\\xffh\\x05=\\x04\\x8e\\xa4\\x0c\\x04\\x00\\x00\\x00\\x00\\x00\\x00\\x00\\x00\\x00\\x00\\x00\\x00\\x00\\x00\\x00\\x00\\x00\\x00\\x00\\x00\\x00\\x00\\x00\\x00`4\"\\xe2B\\xc6\\x82\\r\\x10/Satoshi:0.16.0/&%\\x08\\x00\\x01': ['NODE_BLOOM', 'NODE_WITNESS', 'NODE_NETWORK_LIMITED'],\n",
    "}\n",
    "\n",
    "def test_services_offered():\n",
    "    for raw_version, services_offered in raw_version_to_services_offered.items():\n",
    "        v = VersionMessage.from_bytes(raw_version)\n",
    "        calculated_services_offered = [k for k, v in services_int_to_dict(v.services).items() if v]\n",
    "        assert set(services_offered) == set(calculated_services_offered)\n",
    "\n",
    "ipytest.run_tests(doctest=True)\n",
    "ipytest.clean_tests(\"test_services_offered*\")"
   ]
  },
  {
   "cell_type": "markdown",
   "metadata": {},
   "source": [
    "# \"Network Address\" Type\n",
    "\n",
    "[`net_addr`](https://en.bitcoin.it/wiki/Protocol_documentation#Network_address) is the most complicated, so we'll handle it last.\n",
    "\n",
    "Network addresses require we interpret 4 new kinds of data:\n",
    "\n",
    "1. `time`: Unix timestamp. Already done.\n",
    "2. `services`: integer bitfield. Already done.\n",
    "3. `IP address`: complicated ...\n",
    "4. `port`: big-endian encoded `int`\n",
    "\n",
    "Here's a Python class abstracting this \"Network Address\" type. Just two methods remain to be implemented: `read_ip` and `read_port`:"
   ]
  },
  {
   "cell_type": "code",
   "execution_count": null,
   "metadata": {},
   "outputs": [],
   "source": [
    "class Address:\n",
    "\n",
    "    def __init__(self, services, ip, port, time):\n",
    "        self.services = services\n",
    "        self.ip = ip\n",
    "        self.port = port\n",
    "        self.time = time\n",
    "\n",
    "    @classmethod\n",
    "    def from_bytes(cls, bytes_, version_msg=False):\n",
    "        stream = BytesIO(bytes_)\n",
    "        return cls.from_stream(stream, version_msg)\n",
    "    \n",
    "    @classmethod\n",
    "    def from_stream(cls, stream, version_msg=False):\n",
    "        if version_msg:\n",
    "            time = None\n",
    "        else:\n",
    "            time = read_timestamp(stream)\n",
    "        services = read_services(stream)\n",
    "        ip = stream.read(16)\n",
    "        port = read_int(stream, 2, byte_order='big')\n",
    "        return cls(services, ip, port, time)\n",
    "    \n",
    "    def __repr__(self):\n",
    "        return f\"<Address {self.ip}:{self.port}>\""
   ]
  },
  {
   "cell_type": "markdown",
   "metadata": {},
   "source": [
    "## \"Network Addess > IPv6/4\" field\n",
    "\n",
    "Since these \"network addresses\" are sort of their own \"data type\", let's make a class to abstract them.\n",
    "\n",
    "Here's my best translation of the docs:\n",
    "\n",
    "![image](images/network-address.png)"
   ]
  },
  {
   "cell_type": "code",
   "execution_count": 96,
   "metadata": {},
   "outputs": [],
   "source": [
    "def read_ip(stream):\n",
    "    bytes_ = stream.read(16)\n",
    "    return ip_address(bytes_)"
   ]
  },
  {
   "cell_type": "markdown",
   "metadata": {},
   "source": [
    "## \"Network Address > Port\" Field\n",
    "\n",
    "This is just 2 byte integer -- but it's encoded with the opposite byte order of what we usually read using `read_bytes`. But have no fear, `read_bytes` takes an optional `byte_order` parameter which defaults to `little` -- since we're usually reading little-endian encoded messages. But if we set it to `big`, then `read_int` will successfully read the \"big endian\" / \"network byte order\" port number.\n",
    "\n",
    "In order to have clean, testable code we will define another helper method: `read_port`"
   ]
  },
  {
   "cell_type": "code",
   "execution_count": 140,
   "metadata": {},
   "outputs": [],
   "source": [
    "def read_port(stream):\n",
    "    return read_int(stream, 2, byte_order=\"big\")"
   ]
  },
  {
   "cell_type": "markdown",
   "metadata": {},
   "source": [
    "# Parsing a complete Version response\n",
    "\n",
    "Let's put together all the little helper function and helper classes we've so dilligently written and parse the payload of the version_message we downloaded at the beginning of this lesson."
   ]
  },
  {
   "cell_type": "code",
   "execution_count": 19,
   "metadata": {},
   "outputs": [
    {
     "name": "stdout",
     "output_type": "stream",
     "text": [
      "+------------------+----------------------------------------------------------------------------------+\n",
      "| VersionMessage   |                                                                                  |\n",
      "+==================+==================================================================================+\n",
      "| version          | 70015                                                                            |\n",
      "+------------------+----------------------------------------------------------------------------------+\n",
      "| services         | {'NODE_NETWORK': True, 'NODE_GETUTXO': False, 'NODE_BLOOM': True, 'NODE_WITNESS' |\n",
      "|                  | : True, 'NODE_NETWORK_LIMITED': True}                                            |\n",
      "+------------------+----------------------------------------------------------------------------------+\n",
      "| timestamp        | 2018-07-30 02:30:36                                                              |\n",
      "+------------------+----------------------------------------------------------------------------------+\n",
      "| addr_recv        | <Address :::0>                                                                   |\n",
      "+------------------+----------------------------------------------------------------------------------+\n",
      "| addr_from        | <Address :::0>                                                                   |\n",
      "+------------------+----------------------------------------------------------------------------------+\n",
      "| nonce            | 1139571297765237                                                                 |\n",
      "+------------------+----------------------------------------------------------------------------------+\n",
      "| user_agent       | b'/Satoshi:0.16.0/'                                                              |\n",
      "+------------------+----------------------------------------------------------------------------------+\n",
      "| start_height     | 534366                                                                           |\n",
      "+------------------+----------------------------------------------------------------------------------+\n",
      "| relay            | True                                                                             |\n",
      "+------------------+----------------------------------------------------------------------------------+\n"
     ]
    }
   ],
   "source": [
    "import socket\n",
    "from ibd.two import VersionMessage # get the final version ...\n",
    "\n",
    "PEER_IP = \"35.187.200.6\"\n",
    "\n",
    "PEER_PORT = 8333\n",
    "\n",
    "# magic \"version\" bytestring\n",
    "VERSION = b'\\xf9\\xbe\\xb4\\xd9version\\x00\\x00\\x00\\x00\\x00j\\x00\\x00\\x00\\x9b\"\\x8b\\x9e\\x7f\\x11\\x01\\x00\\x0f\\x04\\x00\\x00\\x00\\x00\\x00\\x00\\x93AU[\\x00\\x00\\x00\\x00\\x0f\\x04\\x00\\x00\\x00\\x00\\x00\\x00\\x00\\x00\\x00\\x00\\x00\\x00\\x00\\x00\\x00\\x00\\x00\\x00\\x00\\x00\\x00\\x00\\x00\\x00\\x0f\\x04\\x00\\x00\\x00\\x00\\x00\\x00\\x00\\x00\\x00\\x00\\x00\\x00\\x00\\x00\\x00\\x00\\x00\\x00\\x00\\x00\\x00\\x00\\x00\\x00rV\\xc5C\\x9b:\\xea\\x89\\x14/some-cool-software/\\x01\\x00\\x00\\x00\\x01'\n",
    "\n",
    "sock = socket.socket()\n",
    "sock.connect((PEER_IP, PEER_PORT))\n",
    "\n",
    "# initiate the \"version handshake\"\n",
    "sock.send(VERSION)\n",
    "\n",
    "# receive their \"version\" response\n",
    "pkt = Packet.from_socket(sock)\n",
    "\n",
    "msg = VersionMessage.from_bytes(pkt.payload)\n",
    "print(msg)"
   ]
  },
  {
   "cell_type": "markdown",
   "metadata": {},
   "source": [
    "Boom! This is basically the same code we finished the last lesson with, but our magical `version_report` function and all the functions it calls are able to decipher what this cryptic message _means_!"
   ]
  }
 ],
 "metadata": {
  "kernelspec": {
   "display_name": "Python 3",
   "language": "python",
   "name": "python3"
  },
  "language_info": {
   "codemirror_mode": {
    "name": "ipython",
    "version": 3
   },
   "file_extension": ".py",
   "mimetype": "text/x-python",
   "name": "python",
   "nbconvert_exporter": "python",
   "pygments_lexer": "ipython3",
   "version": "3.7.0b5"
  }
 },
 "nbformat": 4,
 "nbformat_minor": 2
}
