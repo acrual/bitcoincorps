{
 "cells": [
  {
   "cell_type": "markdown",
   "metadata": {},
   "source": [
    "In the last lesson we encountered the Bitcoin protocol's [Version Handshake](https://en.bitcoin.it/wiki/Version_Handshake). We saw how Bitcoin network peers won't respond if you don't start the conversion with a `version` message.\n",
    "\n",
    "But we cheated last lesson. I gave you a serialize `version` message and didn't tell you how I created it. And \n",
    "\n",
    "We were also lazy: we didn't parse the cryptic `payload` of the `version` message that our peer gave us.\n",
    "\n",
    "We, too, we rude! After listening for our peer's `version` message we stopped listening and never received their `verack` message.\n",
    "\n",
    "So you see, we have much to fix in this lesson!\n",
    "\n",
    "To begin, I'm going to redefine everything from last lesson. I'm going to rename `Message` -> `Packet`."
   ]
  },
  {
   "cell_type": "code",
   "execution_count": 12,
   "metadata": {},
   "outputs": [],
   "source": [
    "from hashlib import sha256\n",
    "\n",
    "NETWORK_MAGIC = 0xD9B4BEF9\n",
    "\n",
    "def bytes_to_int(b):\n",
    "    return int.from_bytes(b, 'little')\n",
    "\n",
    "def read_magic(sock):\n",
    "    magic_bytes = sock.recv(4)\n",
    "    magic = bytes_to_int(magic_bytes)\n",
    "    return magic\n",
    "\n",
    "def read_command(sock):\n",
    "    raw = sock.recv(12)\n",
    "    # remove empty bytes\n",
    "    command = raw.replace(b\"\\x00\", b\"\")\n",
    "    return command\n",
    "\n",
    "def read_length(sock):\n",
    "    raw = sock.recv(4)\n",
    "    length = bytes_to_int(raw)\n",
    "    return length\n",
    "\n",
    "def read_checksum(sock):\n",
    "    # FIXME: protocol documentation says this should be an integer ...\n",
    "    raw = sock.recv(4)\n",
    "    return raw\n",
    "\n",
    "def calculate_checksum(payload_bytes):\n",
    "    \"\"\"First 4 bytes of sha256(sha256(payload))\"\"\"\n",
    "    first_round = sha256(payload_bytes).digest()\n",
    "    second_round = sha256(first_round).digest()\n",
    "    first_four_bytes = second_round[:4]\n",
    "    return first_four_bytes\n",
    "\n",
    "def read_payload(sock, length):\n",
    "    payload = sock.recv(length)\n",
    "    return payload\n",
    "\n",
    "\n",
    "class Packet:\n",
    "\n",
    "    def __init__(self, command, payload):\n",
    "        self.command = command\n",
    "        self.payload = payload\n",
    "\n",
    "    @classmethod\n",
    "    def from_socket(cls, sock):\n",
    "        magic = read_magic(sock)\n",
    "        if magic != NETWORK_MAGIC:\n",
    "            raise ValueError(f'Network magic \"{magic}\" is wrong')\n",
    "\n",
    "        command = read_command(sock)\n",
    "        payload_length = read_length(sock)\n",
    "        checksum = read_checksum(sock)\n",
    "        payload = read_payload(sock, payload_length)\n",
    "        \n",
    "        calculated_checksum = calculate_checksum(payload)\n",
    "        if calculated_checksum != checksum:\n",
    "            raise RuntimeError(\"Checksums don't match\")\n",
    "\n",
    "        if payload_length != len(payload):\n",
    "            raise RuntimeError(\"Tried to read {payload_length} bytes, only received {len(payload)} bytes\")\n",
    "\n",
    "        return cls(command, payload)\n",
    "\n",
    "    def to_bytes(self):\n",
    "        pass\n",
    "\n",
    "    def to_message(self):\n",
    "        message_class = command_to_message_class(self.command)\n",
    "        return message_class.from_payload(self.payload)\n",
    "\n",
    "    def __repr__(self):\n",
    "        return f\"<Message command={self.command} payload={self.payload}>\""
   ]
  },
  {
   "cell_type": "code",
   "execution_count": 14,
   "metadata": {},
   "outputs": [
    {
     "name": "stdout",
     "output_type": "stream",
     "text": [
      "b'\\x7f\\x11\\x01\\x00\\r\\x04\\x00\\x00\\x00\\x00\\x00\\x003\\xc2X[\\x00\\x00\\x00\\x00\\x0f\\x04\\x00\\x00\\x00\\x00\\x00\\x00\\x00\\x00\\x00\\x00\\x00\\x00\\x00\\x00\\x00\\x00\\x00\\x00\\x00\\x00\\x00\\x00\\x00\\x00\\r\\x04\\x00\\x00\\x00\\x00\\x00\\x00\\x00\\x00\\x00\\x00\\x00\\x00\\x00\\x00\\x00\\x00\\x00\\x00\\x00\\x00\\x00\\x00\\x00\\x00{\\xc5\\xa7\\x80\\xa1\\x87\\xc1\\xda\\x10/Satoshi:0.16.0/\\x8d$\\x08\\x00\\x01'\n"
     ]
    }
   ],
   "source": [
    "import socket\n",
    "\n",
    "PEER_IP = \"35.187.200.6\"\n",
    "PEER_PORT = 8333\n",
    "\n",
    "# magic \"version\" bytestring\n",
    "VERSION = b'\\xf9\\xbe\\xb4\\xd9version\\x00\\x00\\x00\\x00\\x00j\\x00\\x00\\x00\\x9b\"\\x8b\\x9e\\x7f\\x11\\x01\\x00\\x0f\\x04\\x00\\x00\\x00\\x00\\x00\\x00\\x93AU[\\x00\\x00\\x00\\x00\\x0f\\x04\\x00\\x00\\x00\\x00\\x00\\x00\\x00\\x00\\x00\\x00\\x00\\x00\\x00\\x00\\x00\\x00\\x00\\x00\\x00\\x00\\x00\\x00\\x00\\x00\\x0f\\x04\\x00\\x00\\x00\\x00\\x00\\x00\\x00\\x00\\x00\\x00\\x00\\x00\\x00\\x00\\x00\\x00\\x00\\x00\\x00\\x00\\x00\\x00\\x00\\x00rV\\xc5C\\x9b:\\xea\\x89\\x14/some-cool-software/\\x01\\x00\\x00\\x00\\x01'\n",
    "\n",
    "sock = socket.socket()\n",
    "sock.connect((PEER_IP, PEER_PORT))\n",
    "\n",
    "# initiate the \"version handshake\"\n",
    "sock.send(VERSION)\n",
    "\n",
    "# receive their \"version\" response\n",
    "version_message = Packet.from_socket(sock)\n",
    "\n",
    "print(version_message.payload)"
   ]
  },
  {
   "cell_type": "markdown",
   "metadata": {},
   "source": [
    "Our next task is to parse this payload. I'll let you in on a secret: parsing the payload will work almost exactly the same as the `Packet.from_socket` method above. \n",
    "\n",
    "You will need to look interpret [this chart](https://en.bitcoin.it/wiki/Protocol_documentation#version)\n",
    "\n",
    "![image](./images/version-message.png)\n",
    "\n",
    "Here's an exercise: parse the version field"
   ]
  },
  {
   "cell_type": "code",
   "execution_count": null,
   "metadata": {},
   "outputs": [],
   "source": [
    "def read_version(binary_stream):\n",
    "    # read and interpret bytes from the stream\n",
    "    "
   ]
  },
  {
   "cell_type": "code",
   "execution_count": null,
   "metadata": {},
   "outputs": [],
   "source": [
    "import ipytest, pytest\n",
    "import test_data\n",
    "\n",
    "\n",
    "ipytest.clean_tests(\"test_read_version*\")\n",
    "\n",
    "def test_read_version_0():\n",
    "    assert read_version(test_data.version_0) == 70015\n",
    "\n",
    "def test_read_version_0():\n",
    "    assert read_version(test_data.version_0) == 70015\n",
    "\n",
    "def test_read_version_0():\n",
    "    assert read_version(test_data.version_0) == 70015\n",
    "    \n",
    "ipytest.run_tests(doctest=True)"
   ]
  },
  {
   "cell_type": "markdown",
   "metadata": {},
   "source": [
    "\n",
    "Now, here's a further question: Given a version message, tell me whether the node that sent it can send a `pong` message ([hint](https://bitcoin.org/en/developer-reference#protocol-versions))."
   ]
  },
  {
   "cell_type": "code",
   "execution_count": null,
   "metadata": {},
   "outputs": [],
   "source": []
  },
  {
   "cell_type": "code",
   "execution_count": null,
   "metadata": {},
   "outputs": [],
   "source": [
    "class BaseMessage:\n",
    "\n",
    "    def to_packet(self):\n",
    "        return Packet(self.command, self.to_bytes())\n",
    "\n",
    "\n",
    "class VersionMessage(BaseMessage):\n",
    "\n",
    "    command = b\"version\"\n",
    "\n",
    "    def __init__(self):\n",
    "        pass\n",
    "\n",
    "    @classmethod\n",
    "    def from_payload(cls, payload):\n",
    "        stream = io.BytesIO(payload)\n",
    "        ...\n",
    "        return cls(p1, p2, p3)\n",
    "\n",
    "    def to_bytes(self):\n",
    "        pass    "
   ]
  }
 ],
 "metadata": {
  "kernelspec": {
   "display_name": "Python 3",
   "language": "python",
   "name": "python3"
  },
  "language_info": {
   "codemirror_mode": {
    "name": "ipython",
    "version": 3
   },
   "file_extension": ".py",
   "mimetype": "text/x-python",
   "name": "python",
   "nbconvert_exporter": "python",
   "pygments_lexer": "ipython3",
   "version": "3.7.0b5"
  }
 },
 "nbformat": 4,
 "nbformat_minor": 2
}
