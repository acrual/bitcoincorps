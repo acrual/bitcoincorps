{
 "cells": [
  {
   "cell_type": "markdown",
   "metadata": {},
   "source": [
    "In the last lesson we encountered the Bitcoin protocol's [Version Handshake](https://en.bitcoin.it/wiki/Version_Handshake). We saw how Bitcoin network peers won't respond if you don't start the conversion with a `version` message.\n",
    "\n",
    "But we cheated last lesson. I gave you a serialize `version` message and didn't tell you how I created it. And \n",
    "\n",
    "We were also lazy: we didn't parse the cryptic `payload` of the `version` message that our peer gave us.\n",
    "\n",
    "We, too, we rude! After listening for our peer's `version` message we stopped listening and never received their `verack` message.\n",
    "\n",
    "So you see, we have much to fix in this lesson!\n",
    "\n",
    "To begin, I'm going to redefine everything from last lesson. I'm going to rename `Message` -> `Packet`."
   ]
  },
  {
   "cell_type": "code",
   "execution_count": 11,
   "metadata": {},
   "outputs": [],
   "source": [
    "from hashlib import sha256\n",
    "\n",
    "NETWORK_MAGIC = 0xD9B4BEF9\n",
    "\n",
    "def bytes_to_int(b):\n",
    "    return int.from_bytes(b, 'little')\n",
    "\n",
    "def read_magic(sock):\n",
    "    magic_bytes = sock.recv(4)\n",
    "    magic = bytes_to_int(magic_bytes)\n",
    "    return magic\n",
    "\n",
    "def read_command(sock):\n",
    "    raw = sock.recv(12)\n",
    "    # remove empty bytes\n",
    "    command = raw.replace(b\"\\x00\", b\"\")\n",
    "    return command\n",
    "\n",
    "def read_length(sock):\n",
    "    raw = sock.recv(4)\n",
    "    length = bytes_to_int(raw)\n",
    "    return length\n",
    "\n",
    "def read_checksum(sock):\n",
    "    # FIXME: protocol documentation says this should be an integer ...\n",
    "    raw = sock.recv(4)\n",
    "    return raw\n",
    "\n",
    "def calculate_checksum(payload_bytes):\n",
    "    \"\"\"First 4 bytes of sha256(sha256(payload))\"\"\"\n",
    "    first_round = sha256(payload_bytes).digest()\n",
    "    second_round = sha256(first_round).digest()\n",
    "    first_four_bytes = second_round[:4]\n",
    "    return first_four_bytes\n",
    "\n",
    "def read_payload(sock, length):\n",
    "    payload = sock.recv(length)\n",
    "    return payload\n",
    "\n",
    "\n",
    "class Packet:\n",
    "\n",
    "    def __init__(self, command, payload):\n",
    "        self.command = command\n",
    "        self.payload = payload\n",
    "\n",
    "    @classmethod\n",
    "    def from_socket(cls, sock):\n",
    "        magic = read_magic(sock)\n",
    "        if magic != NETWORK_MAGIC:\n",
    "            raise ValueError(f'Network magic \"{magic}\" is wrong')\n",
    "\n",
    "        command = read_command(sock)\n",
    "        payload_length = read_length(sock)\n",
    "        checksum = read_checksum(sock)\n",
    "        payload = read_payload(sock, payload_length)\n",
    "        \n",
    "        calculated_checksum = calculate_checksum(payload)\n",
    "        if calculated_checksum != checksum:\n",
    "            raise RuntimeError(\"Checksums don't match\")\n",
    "\n",
    "        if payload_length != len(payload):\n",
    "            raise RuntimeError(\"Tried to read {payload_length} bytes, only received {len(payload)} bytes\")\n",
    "\n",
    "        return cls(command, payload)\n",
    "\n",
    "    def to_bytes(self):\n",
    "        pass\n",
    "\n",
    "    def to_message(self):\n",
    "        message_class = command_to_message_class(self.command)\n",
    "        return message_class.from_payload(self.payload)\n",
    "\n",
    "    def __repr__(self):\n",
    "        return f\"<Message command={self.command} payload={self.payload}>\""
   ]
  },
  {
   "cell_type": "code",
   "execution_count": 12,
   "metadata": {},
   "outputs": [
    {
     "ename": "SyntaxError",
     "evalue": "invalid syntax (<ipython-input-12-c73b8611158e>, line 9)",
     "output_type": "error",
     "traceback": [
      "\u001b[0;36m  File \u001b[0;32m\"<ipython-input-12-c73b8611158e>\"\u001b[0;36m, line \u001b[0;32m9\u001b[0m\n\u001b[0;31m    sock = socket.socket()j\u001b[0m\n\u001b[0m                          ^\u001b[0m\n\u001b[0;31mSyntaxError\u001b[0m\u001b[0;31m:\u001b[0m invalid syntax\n"
     ]
    }
   ],
   "source": [
    "import socket\n",
    "\n",
    "PEER_IP = \"35.187.200.6\"\n",
    "PEER_PORT = 8333\n",
    "\n",
    "# magic \"version\" bytestring\n",
    "VERSION = b'\\xf9\\xbe\\xb4\\xd9version\\x00\\x00\\x00\\x00\\x00j\\x00\\x00\\x00\\x9b\"\\x8b\\x9e\\x7f\\x11\\x01\\x00\\x0f\\x04\\x00\\x00\\x00\\x00\\x00\\x00\\x93AU[\\x00\\x00\\x00\\x00\\x0f\\x04\\x00\\x00\\x00\\x00\\x00\\x00\\x00\\x00\\x00\\x00\\x00\\x00\\x00\\x00\\x00\\x00\\x00\\x00\\x00\\x00\\x00\\x00\\x00\\x00\\x0f\\x04\\x00\\x00\\x00\\x00\\x00\\x00\\x00\\x00\\x00\\x00\\x00\\x00\\x00\\x00\\x00\\x00\\x00\\x00\\x00\\x00\\x00\\x00\\x00\\x00rV\\xc5C\\x9b:\\xea\\x89\\x14/some-cool-software/\\x01\\x00\\x00\\x00\\x01'\n",
    "\n",
    "sock = socket.socket()j\n",
    "sock.connect((PEER_IP, PEER_PORT))\n",
    "\n",
    "# initiate the \"version handshake\"\n",
    "sock.send(VERSION)\n",
    "\n",
    "# receive their \"version\" response\n",
    "version_message = Packet.from_socket(sock)\n",
    "\n",
    "print(version_message.payload)"
   ]
  },
  {
   "cell_type": "markdown",
   "metadata": {},
   "source": [
    "Our next task is to parse this payload. I'll let you in on a secret: parsing the payload will work almost exactly the same as the `Packet.from_socket` method above. \n",
    "\n",
    "You will need to look interpret [this chart](https://en.bitcoin.it/wiki/Protocol_documentation#version)\n",
    "\n",
    "![image](./images/version-message.png)\n",
    "\n",
    "Here's an exercise: parse the version field"
   ]
  },
  {
   "cell_type": "code",
   "execution_count": 13,
   "metadata": {},
   "outputs": [],
   "source": [
    "def read_version(binary_stream):\n",
    "    ### your code here ###\n",
    "    # read and interpret bytes from the stream\n",
    "    bytes_ = binary_stream.read(4)\n",
    "    int_ = bytes_to_int(bytes_)\n",
    "    return int_"
   ]
  },
  {
   "cell_type": "code",
   "execution_count": 14,
   "metadata": {},
   "outputs": [
    {
     "name": "stderr",
     "output_type": "stream",
     "text": [
      "unittest.case.FunctionTestCase (test_read_version_0) ... ok\n",
      "unittest.case.FunctionTestCase (test_read_version_1) ... ok\n",
      "unittest.case.FunctionTestCase (test_read_version_2) ... ok\n",
      "\n",
      "----------------------------------------------------------------------\n",
      "Ran 3 tests in 0.005s\n",
      "\n",
      "OK\n"
     ]
    }
   ],
   "source": [
    "import ipytest, pytest\n",
    "import test_data\n",
    "\n",
    "# ipytest.clean_tests(\"test_read_version*\")\n",
    "\n",
    "version_streams = test_data.make_version_streams()\n",
    "\n",
    "def test_read_version_0():\n",
    "    n = read_version(version_streams[0])\n",
    "    assert n == 70015\n",
    "\n",
    "def test_read_version_1():\n",
    "    n = read_version(version_streams[1])\n",
    "    assert n == 60001\n",
    "\n",
    "def test_read_version_2():\n",
    "    n = read_version(version_streams[2])\n",
    "    assert n == 106\n",
    "    \n",
    "ipytest.run_tests(doctest=True)\n",
    "ipytest.clean_tests(\"test_read_version*\")"
   ]
  },
  {
   "cell_type": "markdown",
   "metadata": {},
   "source": [
    "\n",
    "Now, here's a further question: Given a version message binary stream, tell me whether the node that sent it can send a `pong` message ([hint](https://bitcoin.org/en/developer-reference#protocol-versions))."
   ]
  },
  {
   "cell_type": "code",
   "execution_count": 15,
   "metadata": {},
   "outputs": [],
   "source": [
    "def can_send_pong(binary_stream):\n",
    "    ### your code here ###\n",
    "    return read_version(binary_stream) >= 60001"
   ]
  },
  {
   "cell_type": "code",
   "execution_count": 16,
   "metadata": {},
   "outputs": [
    {
     "name": "stderr",
     "output_type": "stream",
     "text": [
      "unittest.case.FunctionTestCase (test_can_send_pong_0) ... ok\n",
      "unittest.case.FunctionTestCase (test_can_send_pong_1) ... ok\n",
      "unittest.case.FunctionTestCase (test_can_send_pong_2) ... ok\n",
      "\n",
      "----------------------------------------------------------------------\n",
      "Ran 3 tests in 0.014s\n",
      "\n",
      "OK\n"
     ]
    }
   ],
   "source": [
    "version_streams = test_data.make_version_streams()\n",
    "\n",
    "def test_can_send_pong_0():\n",
    "    result = can_send_pong(version_streams[0])\n",
    "    assert result == True\n",
    "\n",
    "def test_can_send_pong_1():\n",
    "    result = can_send_pong(version_streams[1])\n",
    "    assert result == True\n",
    "\n",
    "def test_can_send_pong_2():\n",
    "    result = can_send_pong(version_streams[2])\n",
    "    assert result == False\n",
    "    \n",
    "ipytest.run_tests(doctest=True)\n",
    "ipytest.clean_tests(\"test_can_send_pong*\")"
   ]
  },
  {
   "cell_type": "markdown",
   "metadata": {},
   "source": [
    "Now we've got the hang of it.\n",
    "\n",
    "Here's the outline of a `VersionMessage` class."
   ]
  },
  {
   "cell_type": "code",
   "execution_count": null,
   "metadata": {},
   "outputs": [],
   "source": []
  },
  {
   "cell_type": "code",
   "execution_count": 17,
   "metadata": {},
   "outputs": [],
   "source": [
    "class VersionMessage:\n",
    "\n",
    "    command = b\"version\"\n",
    "\n",
    "    def __init__(self, version, services, timestamp, addr_recv, addr_from, \n",
    "                 nonce, user_agent, start_height, relay):\n",
    "        self.version = version\n",
    "        self.services = services\n",
    "        self.timestamp = timestamp\n",
    "        self.addr_recv = addr_recv\n",
    "        self.addr_from = addr_from\n",
    "        self.nonce = nonce\n",
    "        self.user_agent = user_agent\n",
    "        self.start_height = start_height\n",
    "        self.relay = relay\n",
    "\n",
    "    @classmethod\n",
    "    def from_bytes(cls, payload):\n",
    "        stream = io.BytesIO(payload)\n",
    "        \n",
    "        version = read_int(stream, 4)\n",
    "        services = read_int(stream, 8)\n",
    "        timestamp = read_int(stream, 8)\n",
    "        addr_recv = read_address(stream)\n",
    "        addr_from = read_addreas(stream)\n",
    "        nonce = read_int(stream, 8)\n",
    "        user_agent = read_varstr(stream)\n",
    "        start_height = read_int(stream, 4)\n",
    "        relay = read_bool(stream, 1)\n",
    "        \n",
    "        return cls(version, services, timestamp, addr_recv, addr_from, \n",
    "                   nonce, user_agent, start_height, relay)\n",
    "    \n"
   ]
  },
  {
   "cell_type": "markdown",
   "metadata": {},
   "source": [
    "If you consult the protocol documentation you will see that the `from_bytes` classmethod just translates the `Description` and `Data Type` columns into python code. \n",
    "\n",
    "Here we encounter some \"types\" that we're familiar with -- `int32_t` / `uint64_t` / `int64_t` -- which are different types in a low-level language like C++, but are all equivalent to the general `int` in Python. Our previously implemented `bytes_to_int` can handle these just fine.\n",
    "\n",
    "But we also encounter some new types: `net_addr`, `varstr`, and `bool`.\n",
    "\n",
    "`bool` is the simplest: it's just a Boolean, either `True` or `False` in Python. We'll learn how to read this first."
   ]
  },
  {
   "cell_type": "markdown",
   "metadata": {},
   "source": [
    "# \"Boolean\" fields\n",
    "\n",
    "Please fill out this `read_bool` function."
   ]
  },
  {
   "cell_type": "code",
   "execution_count": 18,
   "metadata": {},
   "outputs": [],
   "source": [
    "def read_bool(stream):\n",
    "    bytes_ = stream.read(1)\n",
    "    if len(bytes_) != 1:\n",
    "        raise RuntimeError(\"Stream ran dry\")\n",
    "    integer =  bytes_to_int(bytes_)\n",
    "    boolean = bool(integer)\n",
    "    return boolean"
   ]
  },
  {
   "cell_type": "code",
   "execution_count": 19,
   "metadata": {},
   "outputs": [],
   "source": [
    "import test_data\n",
    "\n",
    "def test_read_bool_0():\n",
    "    stream = test_data.make_stream(test_data.true_bytes)\n",
    "    result = read_bool(stream)\n",
    "    assert type(result) == bool\n",
    "    assert result is True\n",
    "    \n",
    "def test_read_bool_1():\n",
    "    stream = test_data.make_stream(test_data.false_bytes)\n",
    "    result = read_bool(stream)\n",
    "    assert type(result) == bool\n",
    "    assert result is False"
   ]
  },
  {
   "cell_type": "markdown",
   "metadata": {},
   "source": [
    "Once you get your `read_bool` function to pass these tests by successfully reading `True` and `False` values, I want you to implement one more thing.\n",
    "\n",
    "I want you to raise a RuntimeError if `stream.read(n)` doesn't return a byte string of length `n`. This is just a check to make sure that our program is running correctly."
   ]
  },
  {
   "cell_type": "code",
   "execution_count": 20,
   "metadata": {},
   "outputs": [
    {
     "name": "stderr",
     "output_type": "stream",
     "text": [
      "unittest.case.FunctionTestCase (test_read_bool_0) ... ok\n",
      "unittest.case.FunctionTestCase (test_read_bool_1) ... ok\n",
      "unittest.case.FunctionTestCase (test_read_bool_2) ... ok\n",
      "\n",
      "----------------------------------------------------------------------\n",
      "Ran 3 tests in 0.004s\n",
      "\n",
      "OK\n"
     ]
    }
   ],
   "source": [
    "def test_read_bool_2():\n",
    "    stream = test_data.make_stream(b\"\")\n",
    "    with pytest.raises(RuntimeError) as e_info:\n",
    "        result = read_bool(stream)\n",
    "\n",
    "ipytest.run_tests(doctest=True)\n",
    "ipytest.clean_tests(\"test_read_bool_*\")"
   ]
  },
  {
   "cell_type": "markdown",
   "metadata": {},
   "source": [
    "# \"Variable Length\" fields"
   ]
  },
  {
   "cell_type": "markdown",
   "metadata": {},
   "source": [
    "Next comes [`var_str`], the type of the \"User Agent\", which is basically an advertisement of the Bitcoin software implementation that the node is using. You can see a listing of popular values [here](https://bitnodes.earn.com/nodes/).\n",
    "\n",
    "[\"Variable Length Strings\"](https://en.bitcoin.it/wiki/Protocol_documentation#Variable_length_string) are used for values that string values of undependable length. This technique is able to encode strings containing up to 9 bytes of information, but only will only take up 1 byte of information if the string is only 1 byte.\n",
    "\n",
    "How does it work?\n",
    "\n",
    "It's very simple. It's a [`var_int`](https://en.bitcoin.it/wiki/Protocol_documentation#Variable_length_integer) (variable length integer) followed followed by n string bytes -- where n is the integer value of the `var_int` field.\n",
    "\n",
    "How does `var_int` work?\n",
    "\n",
    "The first byte of a `var_int` is a marker which says how many bytes come after it:\n",
    "* `0xFF`: 8 byte integer follows\n",
    "* `0xFE`: 4 byte integer follows\n",
    "* `0xFD`: 2 byte integer follows\n",
    "* < `0xFD`: interpret first bit as a 1 byte integer\n",
    "\n",
    "So let's first implement `var_int`, since `var_str` depends on it."
   ]
  },
  {
   "cell_type": "code",
   "execution_count": 21,
   "metadata": {},
   "outputs": [],
   "source": [
    "def read_var_int(stream):\n",
    "    i = stream.read(1)[0]\n",
    "    if i == 0xfd:\n",
    "        return bytes_to_int(stream.read(2))\n",
    "    elif i == 0xfe:\n",
    "        return bytes_to_int(stream.read(4))\n",
    "    elif i == 0xff:\n",
    "        return bytes_to_int(stream.read(8))\n",
    "    else:\n",
    "        return i"
   ]
  },
  {
   "cell_type": "code",
   "execution_count": 30,
   "metadata": {},
   "outputs": [
    {
     "name": "stderr",
     "output_type": "stream",
     "text": [
      "unittest.case.FunctionTestCase (test_read_var_int) ... ok\n",
      "\n",
      "----------------------------------------------------------------------\n",
      "Ran 1 test in 0.003s\n",
      "\n",
      "OK\n"
     ]
    }
   ],
   "source": [
    "import ipytest, pytest\n",
    "import test_data as td\n",
    "\n",
    "enumerated = (\n",
    "    (td.eight_byte_int, td.eight_byte_var_int),\n",
    "    (td.four_byte_int, td.four_byte_var_int),\n",
    "    (td.two_byte_int, td.two_byte_var_int),\n",
    "    (td.one_byte_int, td.one_byte_var_int),\n",
    ")\n",
    "\n",
    "def test_read_var_int():\n",
    "    for correct_int, var_int in enumerated:\n",
    "        stream = td.make_stream(var_int)\n",
    "        calculated_int = read_var_int(stream)\n",
    "        assert correct_int == calculated_int\n",
    "\n",
    "ipytest.run_tests(doctest=True)\n",
    "ipytest.clean_tests(\"test_read_var_int*\")"
   ]
  },
  {
   "cell_type": "markdown",
   "metadata": {},
   "source": [
    "[`net_addr`](https://en.bitcoin.it/wiki/Protocol_documentation#Network_address) is the most complicated, so we'll handle it last."
   ]
  },
  {
   "cell_type": "markdown",
   "metadata": {},
   "source": [
    "Now that we have that out of the way, let's implement `read_var_str`:"
   ]
  },
  {
   "cell_type": "code",
   "execution_count": 23,
   "metadata": {},
   "outputs": [],
   "source": [
    "def read_var_str(stream):\n",
    "    length = read_var_int(stream)\n",
    "    string = stream.read(length)\n",
    "    return string"
   ]
  },
  {
   "cell_type": "code",
   "execution_count": 32,
   "metadata": {},
   "outputs": [
    {
     "name": "stderr",
     "output_type": "stream",
     "text": [
      "unittest.case.FunctionTestCase (test_read_var_str) ... ok\n",
      "\n",
      "----------------------------------------------------------------------\n",
      "Ran 1 test in 0.001s\n",
      "\n",
      "OK\n"
     ]
    }
   ],
   "source": [
    "import ipytest, pytest\n",
    "import test_data as td\n",
    "\n",
    "enumerated = (\n",
    "    (td.short_str, td.short_var_str),\n",
    "    (td.long_str, td.long_var_str),\n",
    ")\n",
    "\n",
    "def test_read_var_str():\n",
    "    for correct_byte_str, var_str in enumerated:\n",
    "        stream = td.make_stream(var_str)\n",
    "        calculated_byte_str = read_var_str(stream)\n",
    "        assert correct_byte_str == calculated_byte_str\n",
    "\n",
    "ipytest.run_tests(doctest=True)\n",
    "ipytest.clean_tests(\"test_read_var_str*\")"
   ]
  },
  {
   "cell_type": "code",
   "execution_count": 4,
   "metadata": {},
   "outputs": [],
   "source": [
    "class BaseMessage:\n",
    "\n",
    "    def to_packet(self):\n",
    "        return Packet(self.command, self.to_bytes())\n",
    "\n",
    "\n",
    "class VersionMessage(BaseMessage):\n",
    "\n",
    "    command = b\"version\"\n",
    "\n",
    "    def __init__(self):\n",
    "        pass\n",
    "\n",
    "    @classmethod\n",
    "    def from_payload(cls, payload):\n",
    "        stream = io.BytesIO(payload)\n",
    "        ...\n",
    "        return cls(p1, p2, p3)\n",
    "\n",
    "    def to_bytes(self):\n",
    "        pass    "
   ]
  },
  {
   "cell_type": "code",
   "execution_count": null,
   "metadata": {},
   "outputs": [],
   "source": []
  }
 ],
 "metadata": {
  "kernelspec": {
   "display_name": "Python 3",
   "language": "python",
   "name": "python3"
  },
  "language_info": {
   "codemirror_mode": {
    "name": "ipython",
    "version": 3
   },
   "file_extension": ".py",
   "mimetype": "text/x-python",
   "name": "python",
   "nbconvert_exporter": "python",
   "pygments_lexer": "ipython3",
   "version": "3.7.0b5"
  }
 },
 "nbformat": 4,
 "nbformat_minor": 2
}
