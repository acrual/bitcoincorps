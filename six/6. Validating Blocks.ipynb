{
 "cells": [
  {
   "cell_type": "code",
   "execution_count": 1,
   "metadata": {},
   "outputs": [],
   "source": [
    "%load_ext autoreload\n",
    "%autoreload 2\n",
    "\n",
    "import io\n",
    "from tx import Tx\n",
    "from block import Block\n",
    "from helper import hash160"
   ]
  },
  {
   "cell_type": "code",
   "execution_count": 2,
   "metadata": {},
   "outputs": [],
   "source": [
    "raw_genesis_block = b\"\\x01\\x00\\x00\\x00\\x00\\x00\\x00\\x00\\x00\\x00\\x00\\x00\\x00\\x00\\x00\\x00\\x00\\x00\\x00\\x00\\x00\\x00\\x00\\x00\\x00\\x00\\x00\\x00\\x00\\x00\\x00\\x00\\x00\\x00\\x00\\x00;\\xa3\\xed\\xfdz{\\x12\\xb2z\\xc7,>gv\\x8fa\\x7f\\xc8\\x1b\\xc3\\x88\\x8aQ2:\\x9f\\xb8\\xaaK\\x1e^J)\\xab_I\\xff\\xff\\x00\\x1d\\x1d\\xac+|\\x01\\x01\\x00\\x00\\x00\\x01\\x00\\x00\\x00\\x00\\x00\\x00\\x00\\x00\\x00\\x00\\x00\\x00\\x00\\x00\\x00\\x00\\x00\\x00\\x00\\x00\\x00\\x00\\x00\\x00\\x00\\x00\\x00\\x00\\x00\\x00\\x00\\x00\\xff\\xff\\xff\\xffM\\x04\\xff\\xff\\x00\\x1d\\x01\\x04EThe Times 03/Jan/2009 Chancellor on brink of second bailout for banks\\xff\\xff\\xff\\xff\\x01\\x00\\xf2\\x05*\\x01\\x00\\x00\\x00CA\\x04g\\x8a\\xfd\\xb0\\xfeUH'\\x19g\\xf1\\xa6q0\\xb7\\x10\\\\\\xd6\\xa8(\\xe09\\t\\xa6yb\\xe0\\xea\\x1fa\\xde\\xb6I\\xf6\\xbc?L\\xef8\\xc4\\xf3U\\x04\\xe5\\x1e\\xc1\\x12\\xde\\\\8M\\xf7\\xba\\x0b\\x8dW\\x8aLp+k\\xf1\\x1d_\\xac\\x00\\x00\\x00\\x00\"\n",
    "genesis_block = Block.parse(io.BytesIO(raw_genesis_block))\n",
    "raw_second_block = b'\\x01\\x00\\x00\\x00o\\xe2\\x8c\\n\\xb6\\xf1\\xb3r\\xc1\\xa6\\xa2F\\xaec\\xf7O\\x93\\x1e\\x83e\\xe1Z\\x08\\x9ch\\xd6\\x19\\x00\\x00\\x00\\x00\\x00\\x98 Q\\xfd\\x1eK\\xa7D\\xbb\\xbeh\\x0e\\x1f\\xee\\x14g{\\xa1\\xa3\\xc3T\\x0b\\xf7\\xb1\\xcd\\xb6\\x06\\xe8W#>\\x0ea\\xbcfI\\xff\\xff\\x00\\x1d\\x01\\xe3b\\x99\\x01\\x01\\x00\\x00\\x00\\x01\\x00\\x00\\x00\\x00\\x00\\x00\\x00\\x00\\x00\\x00\\x00\\x00\\x00\\x00\\x00\\x00\\x00\\x00\\x00\\x00\\x00\\x00\\x00\\x00\\x00\\x00\\x00\\x00\\x00\\x00\\x00\\x00\\xff\\xff\\xff\\xff\\x07\\x04\\xff\\xff\\x00\\x1d\\x01\\x04\\xff\\xff\\xff\\xff\\x01\\x00\\xf2\\x05*\\x01\\x00\\x00\\x00CA\\x04\\x96\\xb58\\xe8SQ\\x9crj,\\x91\\xe6\\x1e\\xc1\\x16\\x00\\xae\\x13\\x90\\x81:b|f\\xfb\\x8b\\xe7\\x94{\\xe6<R\\xdau\\x897\\x95\\x15\\xd4\\xe0\\xa6\\x04\\xf8\\x14\\x17\\x81\\xe6\"\\x94r\\x11f\\xbfb\\x1es\\xa8,\\xbf#B\\xc8X\\xee\\xac\\x00\\x00\\x00\\x00'\n",
    "second_block = Block.parse(io.BytesIO(raw_second_block))\n",
    "raw_finney_block = b'\\x01\\x00\\x00\\x00U\\xbd\\x84\\nxy\\x8a\\xd0\\xda\\x85?h\\x97O=\\x18>+\\xd1\\xdbj\\x84,\\x1f\\xee\\xcf\"*\\x00\\x00\\x00\\x00\\xff\\x10L\\xcb\\x05B\\x1a\\xb9>c\\xf8\\xc3\\xce\\\\,.\\x9d\\xbb7\\xde\\'d\\xb3\\xa3\\x17\\\\\\x81fV,\\xac}Q\\xb9jI\\xff\\xff\\x00\\x1d(>\\x9ep\\x02\\x01\\x00\\x00\\x00\\x01\\x00\\x00\\x00\\x00\\x00\\x00\\x00\\x00\\x00\\x00\\x00\\x00\\x00\\x00\\x00\\x00\\x00\\x00\\x00\\x00\\x00\\x00\\x00\\x00\\x00\\x00\\x00\\x00\\x00\\x00\\x00\\x00\\xff\\xff\\xff\\xff\\x07\\x04\\xff\\xff\\x00\\x1d\\x01\\x02\\xff\\xff\\xff\\xff\\x01\\x00\\xf2\\x05*\\x01\\x00\\x00\\x00CA\\x04\\xd4lIh\\xbd\\xe0(\\x99\\xd2\\xaa\\tc6|zl\\xe3N\\xec3+2\\xe4._4\\x07\\xe0R\\xd6J\\xc6%\\xdao\\x07\\x18\\xe7\\xb3\\x02\\x14\\x044\\xbdrW\\x06\\x95|\\t-\\xb58\\x05\\xb8!\\xa8[#\\xa7\\xacar[\\xac\\x00\\x00\\x00\\x00\\x01\\x00\\x00\\x00\\x01\\xc9\\x97\\xa5\\xe5n\\x10A\\x02\\xfa \\x9cj\\x85-\\xd9\\x06`\\xa2\\x0b-\\x9c5$#\\xed\\xce%\\x85\\x7f\\xcd7\\x04\\x00\\x00\\x00\\x00HG0D\\x02 NE\\xe1i2\\xb8\\xafQIa\\xa1\\xd3\\xa1\\xa2_\\xdf?Ow2\\xe9\\xd6$\\xc6\\xc6\\x15H\\xab_\\xb8\\xcdA\\x02 \\x18\\x15\"\\xec\\x8e\\xca\\x07\\xdeH`\\xa4\\xac\\xdd\\x12\\x90\\x9d\\x83\\x1c\\xc5l\\xbb\\xacF\"\\x08\"!\\xa8v\\x8d\\x1d\\t\\x01\\xff\\xff\\xff\\xff\\x02\\x00\\xca\\x9a;\\x00\\x00\\x00\\x00CA\\x04\\xae\\x1ab\\xfe\\t\\xc5\\xf5\\x1b\\x13\\x90_\\x07\\xf0k\\x99\\xa2\\xf7\\x15\\x9b\"%\\xf3t\\xcd7\\x8dq0/\\xa2\\x84\\x14\\xe7\\xaa\\xb3s\\x97\\xf5T\\xa7\\xdf_\\x14,!\\xc1\\xb70;\\x8a\\x06&\\xf1\\xba\\xde\\xd5\\xc7*pO~l\\xd8L\\xac\\x00(k\\xee\\x00\\x00\\x00\\x00CA\\x04\\x11\\xdb\\x93\\xe1\\xdc\\xdb\\x8a\\x01kI\\x84\\x0f\\x8cS\\xbc\\x1e\\xb6\\x8a8.\\x97\\xb1H.\\xca\\xd7\\xb1H\\xa6\\x90\\x9a\\\\\\xb2\\xe0\\xea\\xdd\\xfb\\x84\\xcc\\xf9tDd\\xf8.\\x16\\x0b\\xfa\\x9b\\x8bd\\xf9\\xd4\\xc0?\\x99\\x9b\\x86C\\xf6V\\xb4\\x12\\xa3\\xac\\x00\\x00\\x00\\x00'\n",
    "finney_block = Block.parse(io.BytesIO(raw_finney_block))"
   ]
  },
  {
   "cell_type": "code",
   "execution_count": 15,
   "metadata": {},
   "outputs": [],
   "source": [
    "from io import BytesIO\n",
    "from unittest import TestCase\n",
    "\n",
    "from helper import h160_to_p2pkh_address, h160_to_p2sh_address\n",
    "from script import OP_CODES\n",
    "from ecc import S256Point, Signature\n",
    "\n",
    "            \n",
    "def check_input(tx, input_index):\n",
    "    \n",
    "    stack = []\n",
    "\n",
    "    def handle_op_checksig():\n",
    "        # Locking pubkey is atop stack. Grab and interpret.\n",
    "        sec_pubkey = stack.pop()\n",
    "        point = S256Point.parse(sec_pubkey)\n",
    "        \n",
    "        # Unlocking signature is next. Grab and interpret\n",
    "        raw_pubkey = stack.pop()\n",
    "        \n",
    "        # Last byte is the \"hash type\". Rest are pubkey der.\n",
    "        sig_der, sig_hash_type = raw_pubkey[:-1], raw_pubkey[-1]\n",
    "        sig = Signature.parse(sig_der)\n",
    "        \n",
    "        # Check the signature\n",
    "        z = target = tx.sig_hash(input_index, sig_hash_type)\n",
    "        sigs_match = point.verify(target, sig)        \n",
    "        stack.append(sigs_match)\n",
    "        \n",
    "    # Locking script of utxo being spent\n",
    "    # This fetches it over the network, a hack\n",
    "    script_pubkey = tx_in.script_pubkey()\n",
    "    # Unlocking script provided by the tx.tx_ins[i] being verified\n",
    "    script_sig = tx_in.script_sig\n",
    "    \n",
    "    # Push each element of the\n",
    "    for element in script_sig.elements:\n",
    "        stack.append(element)\n",
    "    \n",
    "    # Process each item \n",
    "    for element in script_pubkey.elements:\n",
    "        # At this point we only know how to interpret OP_CHECKSIG\n",
    "        if OP_CODES.get(element) == \"OP_CHECKSIG\":\n",
    "            handle_op_checksig()\n",
    "        # We treat everything else as an element and push on stack\n",
    "        else:\n",
    "            stack.append(element)\n",
    "    \n",
    "    return len(stack) and bool(stack.pop())"
   ]
  },
  {
   "cell_type": "code",
   "execution_count": 16,
   "metadata": {},
   "outputs": [
    {
     "name": "stdout",
     "output_type": "stream",
     "text": [
      "True\n"
     ]
    }
   ],
   "source": [
    "def test_p2pk():\n",
    "    tx = finney_block.txns[1]\n",
    "    print(check_input(tx, 0))\n",
    "\n",
    "test_p2pk()"
   ]
  },
  {
   "cell_type": "code",
   "execution_count": 17,
   "metadata": {},
   "outputs": [],
   "source": [
    "from io import BytesIO\n",
    "from unittest import TestCase\n",
    "\n",
    "from helper import h160_to_p2pkh_address, h160_to_p2sh_address\n",
    "from script import OP_CODES\n",
    "from ecc import S256Point, Signature\n",
    "\n",
    "            \n",
    "def check_input(tx, input_index):\n",
    "    \n",
    "    tx_in = tx.tx_ins[input_index]\n",
    "    \n",
    "    stack = []\n",
    "\n",
    "    def handle_op_checksig():\n",
    "        # Locking pubkey is atop stack. Grab and interpret.\n",
    "        sec_pubkey = stack.pop()\n",
    "        point = S256Point.parse(sec_pubkey)\n",
    "        \n",
    "        # Unlocking signature is next. Grab and interpret\n",
    "        raw_sig = stack.pop()\n",
    "        \n",
    "        # Last byte is the \"hash type\". Rest are pubkey der.\n",
    "        sig_der, sig_hash_type = raw_sig[:-1], raw_sig[-1]\n",
    "        sig = Signature.parse(sig_der)\n",
    "        \n",
    "        z = target = tx.sig_hash(input_index, sig_hash_type)\n",
    "        sigs_match = point.verify(target, sig)        \n",
    "        stack.append(sigs_match)\n",
    "        \n",
    "    # Locking script of utxo being spent\n",
    "    # This fetches it over the network, a hack\n",
    "    script_pubkey = tx_in.script_pubkey()\n",
    "    # Unlocking script provided by the tx.tx_ins[i] being verified\n",
    "    script_sig = tx_in.script_sig\n",
    "    \n",
    "    # Push each element of the\n",
    "    for element in script_sig.elements:\n",
    "        stack.append(element)\n",
    "    \n",
    "    # Process each item\n",
    "    for element in script_pubkey.elements:\n",
    "        # At this point we only know how to interpret OP_CHECKSIG\n",
    "        if OP_CODES.get(element) == \"OP_CHECKSIG\":\n",
    "            handle_op_checksig()\n",
    "            \n",
    "        elif OP_CODES.get(element) == \"OP_DUP\":\n",
    "            stack.append(stack[-1])\n",
    "        \n",
    "        elif OP_CODES.get(element) == \"OP_HASH160\":\n",
    "            element = stack.pop()\n",
    "            stack.append(hash160(element))\n",
    "        \n",
    "        # Check if top two elements are equal\n",
    "        # Do nothing if they are, raise error if they aren't\n",
    "        elif OP_CODES.get(element) == \"OP_EQUALVERIFY\":\n",
    "            first = stack.pop()\n",
    "            second = stack.pop()\n",
    "            equal = first == second\n",
    "            if not equal:\n",
    "                raise ValueError(\"Bad script\")  # FIXME\n",
    "\n",
    "        # We treat everything else as an element and push on stack\n",
    "        else:\n",
    "            stack.append(element)\n",
    "            \n",
    "    return len(stack) and bool(stack.pop())"
   ]
  },
  {
   "cell_type": "code",
   "execution_count": 18,
   "metadata": {},
   "outputs": [
    {
     "data": {
      "text/plain": [
       "OP_DUP OP_HASH160 a802fc56c704ce87c42d7c92eb75e7896bdc41ae OP_EQUALVERIFY OP_CHECKSIG "
      ]
     },
     "execution_count": 18,
     "metadata": {},
     "output_type": "execute_result"
    }
   ],
   "source": [
    "# p2pkh tx\n",
    "\n",
    "raw_tx = bytes.fromhex('0100000001813f79011acb80925dfe69b3def355fe914bd1d96a3f5f71bf8303c6a989c7d1000000006b483045022100ed81ff192e75a3fd2304004dcadb746fa5e24c5031ccfcf21320b0277457c98f02207a986d955c6e0cb35d446a89d3f56100f4d7f67801c31967743a9c8e10615bed01210349fc4e631e3624a545de3f89f5d8684c7b8138bd94bdd531d2e213bf016b278afeffffff02a135ef01000000001976a914bc3b654dca7e56b04dca18f2566cdaf02e8d9ada88ac99c39800000000001976a9141c4bc762dd5423e332166702cb75f40df79fea1288ac19430600')\n",
    "stream = BytesIO(raw_tx)\n",
    "p2pkh_tx = Tx.parse(stream)\n",
    "\n",
    "p2pkh_tx.tx_ins[0].script_pubkey()"
   ]
  },
  {
   "cell_type": "code",
   "execution_count": 19,
   "metadata": {
    "scrolled": true
   },
   "outputs": [
    {
     "name": "stdout",
     "output_type": "stream",
     "text": [
      "True\n"
     ]
    }
   ],
   "source": [
    "def test():\n",
    "    print(check_input(p2pkh_tx, 0))\n",
    "\n",
    "test()"
   ]
  }
 ],
 "metadata": {
  "kernelspec": {
   "display_name": "Python 3",
   "language": "python",
   "name": "python3"
  },
  "language_info": {
   "codemirror_mode": {
    "name": "ipython",
    "version": 3
   },
   "file_extension": ".py",
   "mimetype": "text/x-python",
   "name": "python",
   "nbconvert_exporter": "python",
   "pygments_lexer": "ipython3",
   "version": "3.6.6"
  }
 },
 "nbformat": 4,
 "nbformat_minor": 2
}
